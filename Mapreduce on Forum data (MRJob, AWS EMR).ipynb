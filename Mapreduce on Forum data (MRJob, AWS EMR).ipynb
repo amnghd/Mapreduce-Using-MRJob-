{
 "cells": [
  {
   "cell_type": "markdown",
   "metadata": {},
   "source": [
    "#### Problem 1:\n",
    "\n",
    "We are interested in knowing on which hour of the day each user is more active. We will need to work on two columns ``author_id`` and ``date_added``."
   ]
  },
  {
   "cell_type": "code",
   "execution_count": 78,
   "metadata": {},
   "outputs": [],
   "source": [
    "from time import time\n",
    "import pandas as pd\n",
    "import matplotlib.pyplot as plt"
   ]
  },
  {
   "cell_type": "code",
   "execution_count": 86,
   "metadata": {},
   "outputs": [
    {
     "name": "stdout",
     "output_type": "stream",
     "text": [
      "Overwriting codes/active_hour.py\n"
     ]
    }
   ],
   "source": [
    "%%file codes/active_hour.py \n",
    "# this magic command allows saving output of python to folder\n",
    "from mrjob.job import MRJob\n",
    "from datetime import datetime\n",
    "from collections import Counter\n",
    "\n",
    "class MRJobActiveHour(MRJob):\n",
    "    \n",
    "    \n",
    "    def mapper(self,_,line):\n",
    "        data = line.strip().split('\\t')  # getting each line of the data into a list\n",
    "        if len(data) == 19 and data[0] != \"id\": # making sure we are skipping the header\n",
    "            user = data[3]\n",
    "            added_at = data[8]\n",
    "            date_at = added_at[1:20]\n",
    "            if len(date_at) == 19:\n",
    "                date_at = datetime.strptime(date_at, \"%Y-%m-%d %H:%M:%S\")\n",
    "                hour = date_at.hour\n",
    "                yield user[1:-1], hour\n",
    "            \n",
    "        \n",
    "    def reducer(self, user, hour):\n",
    "        hour_list = list(hour)\n",
    "        hour_freq = Counter(hour_list)\n",
    "        max_rep = hour_freq.most_common(1)[0][1] #  getting the hour with highest number of activities\n",
    "        for h, repitition in hour_freq.items():\n",
    "            if repitition == max_rep:\n",
    "                yield user, h  # reports the time that has highest activities\n",
    "        \n",
    "    \n",
    "       \n",
    "if __name__ == '__main__':  \n",
    "    MRJobActiveHour.run()  # where MRJobCategoryCost is your job class"
   ]
  },
  {
   "cell_type": "code",
   "execution_count": 87,
   "metadata": {},
   "outputs": [
    {
     "name": "stdout",
     "output_type": "stream",
     "text": [
      "Running this query took 3.3507730960845947 seconds.\n",
      "Using configs in C:\\Users\\Amin\\.mrjob.conf\n",
      "No configs specified for inline runner\n",
      "Running step 1 of 1...\n",
      "Creating temp directory C:\\Users\\Amin\\AppData\\Local\\Temp\\active_hour.Amin.20190304.022112.874727\n",
      "job output is in C:\\Users\\Amin\\AppData\\Local\\Temp\\active_hour.Amin.20190304.022112.874727\\output\n",
      "Streaming final output from C:\\Users\\Amin\\AppData\\Local\\Temp\\active_hour.Amin.20190304.022112.874727\\output...\n",
      "\"100000005\"\t1\n",
      "\"100000009\"\t20\n",
      "\"100000058\"\t16\n",
      "\"100000066\"\t5\n",
      "\"100000067\"\t4\n",
      "\"100000071\"\t4\n",
      "\"100000093\"\t4\n",
      "\"100000154\"\t7\n",
      "\"100000162\"\t14\n"
     ]
    }
   ],
   "source": [
    "tic = time()\n",
    "string =! python codes/active_hour.py data/forum_slice.tsv \n",
    "toc = time()\n",
    "\n",
    "print('Running this query took {} seconds.'.format(toc - tic))\n",
    "ctr = 0\n",
    "for s in string: # prining the first 15 line of the output log\n",
    "    print(s)\n",
    "    ctr +=1\n",
    "    if ctr == 15:\n",
    "        break"
   ]
  },
  {
   "cell_type": "markdown",
   "metadata": {},
   "source": [
    "Now that we have the algorithm prototyped locally, we will run it on total data on cluster. We use this code in the command line:\n",
    "```\n",
    "python codes/active_hour.py -r emr s3://mapreduce0000/data/forum_users.tsv --output-dir=s3://mapreduce0000/active_users/\n",
    "```\n",
    "  \n"
   ]
  },
  {
   "cell_type": "markdown",
   "metadata": {},
   "source": [
    "Here is a snapshot of the results downloaded from AWS."
   ]
  },
  {
   "cell_type": "code",
   "execution_count": 89,
   "metadata": {},
   "outputs": [
    {
     "name": "stdout",
     "output_type": "stream",
     "text": [
      "\"100000000\"\t9\n",
      "\"100000002\"\t4\n",
      "\"100000003\"\t5\n",
      "\"100000005\"\t1\n",
      "\"100000007\"\t3\n",
      "\"100000008\"\t16\n",
      "\"100000009\"\t20\n",
      "\"100000011\"\t3\n",
      "\"100000014\"\t4\n",
      "\"100000016\"\t23\n"
     ]
    }
   ],
   "source": [
    "! head outputs/active_hours_users"
   ]
  },
  {
   "cell_type": "markdown",
   "metadata": {},
   "source": [
    "#### Problem 2:\n",
    "We are interested in knowing how much is the correlation between question and answer lengths for a single post (defined by ``node_id``)"
   ]
  },
  {
   "cell_type": "code",
   "execution_count": 93,
   "metadata": {},
   "outputs": [
    {
     "name": "stdout",
     "output_type": "stream",
     "text": [
      "Overwriting codes/qacorr.py\n"
     ]
    }
   ],
   "source": [
    "%%file codes/qacorr.py \n",
    "# this magic command allows saving output of python to folder\n",
    "from mrjob.job import MRJob\n",
    "#from mr3px.csvprotocol import CsvProtocol # to output in csv format\n",
    "\n",
    "class MRJobQA(MRJob):\n",
    "    #OUTPUT_PROTOCOL = CsvProtocol    \n",
    "    def mapper(self,_,line):\n",
    "        data = line.strip().split('\\t')  # getting each line of the data into a list\n",
    "        if len(data) == 19 and line[1] != 'i':\n",
    "            node_id = data[0]\n",
    "            body = data[4]\n",
    "            node_type = data[5]\n",
    "            parent_id = data[6]\n",
    "            if 'q' in node_type:  # question\n",
    "                yield node_id, [len(body), node_type]  \n",
    "            elif 'a' in node_type:\n",
    "                yield parent_id, [len(body), node_type] \n",
    "        \n",
    "    def reducer(self, node_id, length_type_pack):\n",
    "        self.length_list = [0,[]]\n",
    "        for pack in length_type_pack:\n",
    "            pack[1] = pack[1][1:-1] # remove additional \"s\n",
    "            if pack[1] == 'question':\n",
    "                self.length_list[0] = pack[0]\n",
    "            if pack[1] == 'answer':\n",
    "                self.length_list[1].append(pack[0])\n",
    "            averages = 0 if len(self.length_list[1]) == 0 else sum(self.length_list[1])/len(self.length_list[1])\n",
    "        yield None, (node_id[1:-1], self.length_list[0], averages)\n",
    "        \n",
    "if __name__ == '__main__':  \n",
    "    MRJobQA.run()  # where MRJobCategoryCost is your job class"
   ]
  },
  {
   "cell_type": "code",
   "execution_count": 75,
   "metadata": {},
   "outputs": [
    {
     "name": "stderr",
     "output_type": "stream",
     "text": [
      "Using configs in C:\\Users\\Amin\\.mrjob.conf\n",
      "No configs specified for inline runner\n",
      "Running step 1 of 1...\n",
      "Creating temp directory C:\\Users\\Amin\\AppData\\Local\\Temp\\qacorr.Amin.20190304.055708.771395\n",
      "job output is in C:\\Users\\Amin\\AppData\\Local\\Temp\\qacorr.Amin.20190304.055708.771395\\output\n",
      "Streaming final output from C:\\Users\\Amin\\AppData\\Local\\Temp\\qacorr.Amin.20190304.055708.771395\\output...\n",
      "Removing temp directory C:\\Users\\Amin\\AppData\\Local\\Temp\\qacorr.Amin.20190304.055708.771395...\n"
     ]
    }
   ],
   "source": [
    "tic = time()\n",
    "! python codes/qacorr.py data/forum_node.tsv  > test.csv\n",
    "toc = time()"
   ]
  },
  {
   "cell_type": "markdown",
   "metadata": {},
   "source": [
    "Code is run on AWS using the following command:\n",
    "\n",
    "``python codes/qacorr.py -r emr s3://mapreduce0000/data/forum_node.tsv --output-dir=s3://mapreduce0000/csvcorr``\n",
    "\n",
    "Now let's see if there is any correlation between the question and answer length."
   ]
  },
  {
   "cell_type": "code",
   "execution_count": 90,
   "metadata": {},
   "outputs": [],
   "source": [
    "df = pd.read_csv('test.csv', header=-1)\n",
    "df.columns = ['node_id', 'q_length', 'a_length']\n",
    "df.set_index('node_id', inplace=True)\n",
    "boolean_mask = (df['q_length'] !=0) & (df['a_length'] !=0)\n",
    "df = df[boolean_mask]"
   ]
  },
  {
   "cell_type": "code",
   "execution_count": 91,
   "metadata": {},
   "outputs": [
    {
     "data": {
      "text/plain": [
       "Text(0.5,1,'Question length vs corresponding average of response length.')"
      ]
     },
     "execution_count": 91,
     "metadata": {},
     "output_type": "execute_result"
    },
    {
     "data": {
      "image/png": "[encoded data removed]",
      "text/plain": [
       "<matplotlib.figure.Figure at 0x1c44e6b6e48>"
      ]
     },
     "metadata": {},
     "output_type": "display_data"
    }
   ],
   "source": [
    "plt.scatter(df['q_length'],df['a_length'], alpha=0.2)\n",
    "plt.xlabel('Question length (char)')\n",
    "plt.ylabel('Average response length (char)')\n",
    "plt.title('Question length vs corresponding average of response length.')"
   ]
  },
  {
   "cell_type": "code",
   "execution_count": 92,
   "metadata": {},
   "outputs": [
    {
     "data": {
      "text/html": [
       "<div>\n",
       "<style scoped>\n",
       "    .dataframe tbody tr th:only-of-type {\n",
       "        vertical-align: middle;\n",
       "    }\n",
       "\n",
       "    .dataframe tbody tr th {\n",
       "        vertical-align: top;\n",
       "    }\n",
       "\n",
       "    .dataframe thead th {\n",
       "        text-align: right;\n",
       "    }\n",
       "</style>\n",
       "<table border=\"1\" class=\"dataframe\">\n",
       "  <thead>\n",
       "    <tr style=\"text-align: right;\">\n",
       "      <th></th>\n",
       "      <th>q_length</th>\n",
       "      <th>a_length</th>\n",
       "    </tr>\n",
       "  </thead>\n",
       "  <tbody>\n",
       "    <tr>\n",
       "      <th>q_length</th>\n",
       "      <td>1.000000</td>\n",
       "      <td>0.164115</td>\n",
       "    </tr>\n",
       "    <tr>\n",
       "      <th>a_length</th>\n",
       "      <td>0.164115</td>\n",
       "      <td>1.000000</td>\n",
       "    </tr>\n",
       "  </tbody>\n",
       "</table>\n",
       "</div>"
      ],
      "text/plain": [
       "          q_length  a_length\n",
       "q_length  1.000000  0.164115\n",
       "a_length  0.164115  1.000000"
      ]
     },
     "execution_count": 92,
     "metadata": {},
     "output_type": "execute_result"
    }
   ],
   "source": [
    "df.corr()"
   ]
  },
  {
   "cell_type": "markdown",
   "metadata": {},
   "source": [
    "There is a very small correlation between the length of the questions and answers."
   ]
  },
  {
   "cell_type": "markdown",
   "metadata": {},
   "source": [
    "#### Problem 3\n",
    "We want to check what are the top 10 tags related to questions."
   ]
  },
  {
   "cell_type": "code",
   "execution_count": 122,
   "metadata": {},
   "outputs": [
    {
     "name": "stdout",
     "output_type": "stream",
     "text": [
      "Overwriting codes/toptags.py\n"
     ]
    }
   ],
   "source": [
    "%%file codes/toptags.py \n",
    "# this magic command allows saving output of python to folder\n",
    "from mrjob.job import MRJob\n",
    "from mrjob.step import MRStep\n",
    "class MRJobTags(MRJob):\n",
    "    def mapper(self,_,line):\n",
    "        data = line.strip().split('\\t')  # getting each line of the data into a list\n",
    "        if len(data) == 19 and line[1] != 'i':\n",
    "            node_type = data[5]\n",
    "            tagnames = data[2][1:-1] # tagnames\n",
    "            tag_list = tagnames.strip().split(' ')\n",
    "            if 'q' in node_type:  # question\n",
    "                for tag in tag_list:\n",
    "                    yield tag, 1\n",
    "    def combiner(self, tag, count)                    :\n",
    "        yield tag, sum(count)\n",
    "        \n",
    "    def reducer_counter(self, tag, sum_count):\n",
    "        yield None, (sum(sum_count),tag)  # reducer return all the couts with the same key\n",
    "        \n",
    "    def reducer_final(self, _, count_tag_pack):\n",
    "        self.toplist = []\n",
    "        for pack in count_tag_pack:\n",
    "            self.toplist.append(pack)\n",
    "        pack_list = sorted(self.toplist, reverse=True)[:10]\n",
    "        for p in pack_list:\n",
    "            yield p[1], p[0]\n",
    "            \n",
    "            \n",
    "    def steps(self):\n",
    "        return [\n",
    "            MRStep(mapper=self.mapper,\n",
    "                  combiner=self.combiner,\n",
    "                  reducer=self.reducer_counter),\n",
    "            MRStep(reducer=self.reducer_final)\n",
    "        ]\n",
    "if __name__ == '__main__':  \n",
    "    MRJobTags.run()  # where  is your job class                    "
   ]
  },
  {
   "cell_type": "code",
   "execution_count": 123,
   "metadata": {},
   "outputs": [
    {
     "name": "stdout",
     "output_type": "stream",
     "text": [
      "\"cs101\"\t837\n",
      "\"homework\"\t139\n",
      "\"python\"\t48\n",
      "\"bug\"\t45\n",
      "\"unit2\"\t29\n",
      "\"quiz\"\t28\n",
      "\"hw2.6\"\t27\n",
      "\"question\"\t23\n",
      "\"hw1.9\"\t21\n",
      "\"help\"\t20\n"
     ]
    },
    {
     "name": "stderr",
     "output_type": "stream",
     "text": [
      "Using configs in C:\\Users\\Amin\\.mrjob.conf\n",
      "No configs specified for inline runner\n",
      "Running step 1 of 2...\n",
      "Creating temp directory C:\\Users\\Amin\\AppData\\Local\\Temp\\toptags.Amin.20190305.051610.441093\n",
      "Running step 2 of 2...\n",
      "job output is in C:\\Users\\Amin\\AppData\\Local\\Temp\\toptags.Amin.20190305.051610.441093\\output\n",
      "Streaming final output from C:\\Users\\Amin\\AppData\\Local\\Temp\\toptags.Amin.20190305.051610.441093\\output...\n",
      "Removing temp directory C:\\Users\\Amin\\AppData\\Local\\Temp\\toptags.Amin.20190305.051610.441093...\n"
     ]
    }
   ],
   "source": [
    "tic = time()\n",
    "! python codes/toptags.py data/sample.tsv\n",
    "toc = time()"
   ]
  },
  {
   "cell_type": "markdown",
   "metadata": {},
   "source": [
    "Let's run it on AWS for the whole forum data.\n",
    "\n",
    "> ``python codes/toptags.py -r emr s3://mapreduce0000/data/forum_node.tsv --output-dir=s3://mapreduce0000/outputs/toptags``\n",
    "\n",
    "Results downloaded from AWS s3:"
   ]
  },
  {
   "cell_type": "code",
   "execution_count": 124,
   "metadata": {},
   "outputs": [
    {
     "name": "stdout",
     "output_type": "stream",
     "text": [
      "\"cs101\"\t11621\n",
      "\"cs373\"\t4952\n",
      "\"cs253\"\t4542\n",
      "\"discussion\"\t3560\n",
      "\"meta\"\t2664\n",
      "\"cs212\"\t2009\n",
      "\"homework\"\t1682\n",
      "\"bug\"\t1651\n",
      "\"cs262\"\t1561\n",
      "\"st101\"\t1489\n"
     ]
    }
   ],
   "source": [
    "! cat outputs/toptags"
   ]
  },
  {
   "cell_type": "code",
   "execution_count": null,
   "metadata": {},
   "outputs": [],
   "source": []
  }
 ],
 "metadata": {
  "kernelspec": {
   "display_name": "Python 3",
   "language": "python",
   "name": "python3"
  },
  "language_info": {
   "codemirror_mode": {
    "name": "ipython",
    "version": 3
   },
   "file_extension": ".py",
   "mimetype": "text/x-python",
   "name": "python",
   "nbconvert_exporter": "python",
   "pygments_lexer": "ipython3",
   "version": "3.6.4"
  }
 },
 "nbformat": 4,
 "nbformat_minor": 2
}
