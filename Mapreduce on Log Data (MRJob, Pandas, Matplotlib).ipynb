{
 "cells": [
  {
   "cell_type": "code",
   "execution_count": 1,
   "metadata": {},
   "outputs": [],
   "source": [
    "import pandas as pd\n",
    "import matplotlib.pyplot as plt\n",
    "import time"
   ]
  },
  {
   "cell_type": "markdown",
   "metadata": {},
   "source": [
    "We would like to perform analytics on the server log."
   ]
  },
  {
   "cell_type": "markdown",
   "metadata": {},
   "source": [
    "#### Problem 1\n",
    "\n",
    "Find all the hits to the-associates which is the following js:\n",
    "    ``asset/js/the_associates.js``"
   ]
  },
  {
   "cell_type": "code",
   "execution_count": 13,
   "metadata": {},
   "outputs": [
    {
     "name": "stdout",
     "output_type": "stream",
     "text": [
      "Overwriting codes/num_hits.py\n"
     ]
    }
   ],
   "source": [
    "%%file codes/num_hits.py \n",
    "# this magic command allows saving output of python to folder\n",
    "from mrjob.job import MRJob\n",
    "\n",
    "address = '/assets/js/the-associates.js'\n",
    "\n",
    "class MRJobAssociates(MRJob):\n",
    "    \n",
    "    def mapper(self,_,line):\n",
    "        data = line.strip().split(' ')  # delete whitespace and tokenize\n",
    "        if len(data) == 10:\n",
    "            request = data[6]  # unpacking the data\n",
    "            if address in request:\n",
    "                yield (address, 1)  # key pair to send to reducer\n",
    "        \n",
    "    def reducer(self, category,hits):\n",
    "        yield address, sum(hits)  # reducer return\n",
    "\n",
    "        \n",
    "if __name__ == '__main__':  \n",
    "    MRJobAssociates.run()  # where MRJobCategoryCost is your job class"
   ]
  },
  {
   "cell_type": "code",
   "execution_count": 15,
   "metadata": {},
   "outputs": [
    {
     "name": "stdout",
     "output_type": "stream",
     "text": [
      "\"/assets/js/the-associates.js\"\t2456\n",
      "Running this query took 103.5659658908844 seconds.\n"
     ]
    },
    {
     "name": "stderr",
     "output_type": "stream",
     "text": [
      "No configs found; falling back on auto-configuration\n",
      "No configs specified for inline runner\n",
      "Running step 1 of 1...\n",
      "Creating temp directory C:\\Users\\Amin\\AppData\\Local\\Temp\\num_hits.Amin.20190227.045027.898440\n",
      "reading from STDIN\n",
      "job output is in C:\\Users\\Amin\\AppData\\Local\\Temp\\num_hits.Amin.20190227.045027.898440\\output\n",
      "Streaming final output from C:\\Users\\Amin\\AppData\\Local\\Temp\\num_hits.Amin.20190227.045027.898440\\output...\n",
      "Removing temp directory C:\\Users\\Amin\\AppData\\Local\\Temp\\num_hits.Amin.20190227.045027.898440...\n"
     ]
    }
   ],
   "source": [
    "tic = time.time()\n",
    "! python codes/num_hits.py < data/access_log\n",
    "toc = time.time()\n",
    "\n",
    "print('Running this query took {} seconds.'.format(toc - tic))"
   ]
  },
  {
   "cell_type": "markdown",
   "metadata": {},
   "source": [
    "#### Problem 2 \n",
    "How many hits came from a specific ip address?\n"
   ]
  },
  {
   "cell_type": "code",
   "execution_count": 45,
   "metadata": {},
   "outputs": [
    {
     "name": "stdout",
     "output_type": "stream",
     "text": [
      "Overwriting codes/num_activities.py\n"
     ]
    }
   ],
   "source": [
    "%%file codes/num_activities.py \n",
    "# this magic command allows saving output of python to folder\n",
    "from mrjob.job import MRJob\n",
    "\n",
    "ip = '10.99.99.186'\n",
    "\n",
    "class MRJobIP(MRJob):\n",
    "    \n",
    "    def mapper(self,_,line):\n",
    "        data = line.strip().split(' ')  # delete whitespace and tokenize\n",
    "        if len(data) == 10:\n",
    "            ip_address = data[0]  # unpacking the data\n",
    "            if ip_address == ip:\n",
    "                yield (ip, 1)  # key pair to send to reducer\n",
    "        \n",
    "    def reducer(self, ip_address,hits):\n",
    "        yield ip_address, (hits)  # reducer return\n",
    "\n",
    "        \n",
    "if __name__ == '__main__':  \n",
    "    MRJobIP.run()  # where MRJobCategoryCost is your job class"
   ]
  },
  {
   "cell_type": "code",
   "execution_count": 22,
   "metadata": {},
   "outputs": [
    {
     "name": "stdout",
     "output_type": "stream",
     "text": [
      "\"10.99.99.186\"\t6\n",
      "Running this query took 91.42828869819641 seconds.\n"
     ]
    },
    {
     "name": "stderr",
     "output_type": "stream",
     "text": [
      "No configs found; falling back on auto-configuration\n",
      "No configs specified for inline runner\n",
      "Running step 1 of 1...\n",
      "Creating temp directory C:\\Users\\Amin\\AppData\\Local\\Temp\\num_activities.Amin.20190227.050052.337895\n",
      "reading from STDIN\n",
      "job output is in C:\\Users\\Amin\\AppData\\Local\\Temp\\num_activities.Amin.20190227.050052.337895\\output\n",
      "Streaming final output from C:\\Users\\Amin\\AppData\\Local\\Temp\\num_activities.Amin.20190227.050052.337895\\output...\n",
      "Removing temp directory C:\\Users\\Amin\\AppData\\Local\\Temp\\num_activities.Amin.20190227.050052.337895...\n"
     ]
    }
   ],
   "source": [
    "tic = time.time()\n",
    "! python codes/num_activities.py < data/access_log\n",
    "toc = time.time()\n",
    "\n",
    "print('Running this query took {} seconds.'.format(toc - tic))"
   ]
  },
  {
   "cell_type": "code",
   "execution_count": 83,
   "metadata": {},
   "outputs": [
    {
     "name": "stdout",
     "output_type": "stream",
     "text": [
      "Overwriting codes/most_visited.py\n"
     ]
    }
   ],
   "source": [
    "%%file codes/most_visited.py \n",
    "# this magic command allows saving output of python to folder\n",
    "from mrjob.job import MRJob\n",
    "from mrjob.step import MRStep\n",
    "prefix = \"http://www.the-associates.co.uk\"\n",
    "class MRJobMostFreqRequest(MRJob):\n",
    "    \n",
    "    def mapper_get_addresses(self,_,line):\n",
    "        data = line.strip().split(' ')  # delete whitespace and tokenize\n",
    "        if len(data) == 10:\n",
    "            request = data[6]  # unpacking the data\n",
    "            if prefix in request:\n",
    "                request = request[len(prefix):] # deleting prefix from addresses\n",
    "            yield (request, 1)  # key pair to send to reducer\n",
    "    \n",
    "    def combiner_count_hits(self, request, hits):\n",
    "        yield (request, sum(hits)) # sum the request seen so far\n",
    "    \n",
    "    def reducer_count_hits(self, request,hits):\n",
    "        yield None, (sum(hits),request)  # reducer return all the couts with the same key\n",
    "    \n",
    "    def reducer_find_max_request(self, _, request_hit_pairs):\n",
    "        yield max(request_hit_pairs) # max function returns the row with highest first element\n",
    "\n",
    "    def steps(self):\n",
    "        return [\n",
    "            MRStep(mapper=self.mapper_get_addresses,\n",
    "                  combiner=self.combiner_count_hits,\n",
    "                  reducer=self.reducer_count_hits),\n",
    "            MRStep(reducer=self.reducer_find_max_request)\n",
    "        ]\n",
    "if __name__ == '__main__':  \n",
    "    MRJobMostFreqRequest.run()  # where MRJobCategoryCost is your job class"
   ]
  },
  {
   "cell_type": "code",
   "execution_count": 84,
   "metadata": {},
   "outputs": [
    {
     "name": "stdout",
     "output_type": "stream",
     "text": [
      "54\t\"/assets/js/the-associates.js\"\n",
      "Running this query took 4.567207098007202 seconds.\n"
     ]
    },
    {
     "name": "stderr",
     "output_type": "stream",
     "text": [
      "No configs found; falling back on auto-configuration\n",
      "No configs specified for inline runner\n",
      "Running step 1 of 2...\n",
      "Creating temp directory C:\\Users\\Amin\\AppData\\Local\\Temp\\most_visited.Amin.20190227.082346.486609\n",
      "reading from STDIN\n",
      "Running step 2 of 2...\n",
      "job output is in C:\\Users\\Amin\\AppData\\Local\\Temp\\most_visited.Amin.20190227.082346.486609\\output\n",
      "Streaming final output from C:\\Users\\Amin\\AppData\\Local\\Temp\\most_visited.Amin.20190227.082346.486609\\output...\n",
      "Removing temp directory C:\\Users\\Amin\\AppData\\Local\\Temp\\most_visited.Amin.20190227.082346.486609...\n"
     ]
    }
   ],
   "source": [
    "tic = time.time()\n",
    "! python codes/most_visited.py < data/samplog.txt\n",
    "toc = time.time()\n",
    "\n",
    "print('Running this query took {} seconds.'.format(toc - tic))"
   ]
  },
  {
   "cell_type": "code",
   "execution_count": null,
   "metadata": {},
   "outputs": [],
   "source": []
  }
 ],
 "metadata": {
  "kernelspec": {
   "display_name": "Python 3",
   "language": "python",
   "name": "python3"
  },
  "language_info": {
   "codemirror_mode": {
    "name": "ipython",
    "version": 3
   },
   "file_extension": ".py",
   "mimetype": "text/x-python",
   "name": "python",
   "nbconvert_exporter": "python",
   "pygments_lexer": "ipython3",
   "version": "3.6.4"
  }
 },
 "nbformat": 4,
 "nbformat_minor": 2
}
