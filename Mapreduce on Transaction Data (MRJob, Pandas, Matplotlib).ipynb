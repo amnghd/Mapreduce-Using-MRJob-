{
 "cells": [
  {
   "cell_type": "code",
   "execution_count": 42,
   "metadata": {},
   "outputs": [],
   "source": [
    "import pandas as pd\n",
    "import matplotlib.pyplot as plt\n",
    "import time"
   ]
  },
  {
   "cell_type": "markdown",
   "metadata": {},
   "source": [
    "### Problem 1:\n",
    "Find the total sales for each category of items."
   ]
  },
  {
   "cell_type": "code",
   "execution_count": 1,
   "metadata": {},
   "outputs": [
    {
     "name": "stdout",
     "output_type": "stream",
     "text": [
      "Overwriting codes/category_cost.py\n"
     ]
    }
   ],
   "source": [
    "%%file codes/category_cost.py \n",
    "# this magic command allows saving output of python to folder\n",
    "from mrjob.job import MRJob\n",
    "\n",
    "\n",
    "class MRJobCategoryCost(MRJob):\n",
    "    \n",
    "    def mapper(self,_,line):\n",
    "        data = line.strip().split('\\t')  # delete whitespace and tokenize\n",
    "        if len(data) == 6:\n",
    "            date, time, store, category, cost, payment = data  # unpacking the data\n",
    "            yield (category, float(cost))  # key pair to send to reducer\n",
    "        \n",
    "    def reducer(self, category,cost):\n",
    "        yield category, sum(cost)  # reducer return\n",
    "\n",
    "        \n",
    "if __name__ == '__main__':  \n",
    "    MRJobCategoryCost.run()  # where MRJobCategoryCost is your job class"
   ]
  },
  {
   "cell_type": "code",
   "execution_count": 3,
   "metadata": {},
   "outputs": [
    {
     "name": "stdout",
     "output_type": "stream",
     "text": [
      "Wall time: 0 ns\n"
     ]
    },
    {
     "name": "stderr",
     "output_type": "stream",
     "text": [
      "Using configs in C:\\Users\\Amin\\.mrjob.conf\n",
      "No configs specified for inline runner\n",
      "Running step 1 of 1...\n",
      "Creating temp directory C:\\Users\\Amin\\AppData\\Local\\Temp\\category_cost.Amin.20190304.035253.643163\n",
      "reading from STDIN\n",
      "job output is in C:\\Users\\Amin\\AppData\\Local\\Temp\\category_cost.Amin.20190304.035253.643163\\output\n",
      "Streaming final output from C:\\Users\\Amin\\AppData\\Local\\Temp\\category_cost.Amin.20190304.035253.643163\\output...\n",
      "Removing temp directory C:\\Users\\Amin\\AppData\\Local\\Temp\\category_cost.Amin.20190304.035253.643163...\n"
     ]
    }
   ],
   "source": [
    "%time\n",
    "! python codes/category_cost.py < data/test_purchases.txt > outputs/p1category_cost.txt"
   ]
  },
  {
   "cell_type": "code",
   "execution_count": 15,
   "metadata": {},
   "outputs": [
    {
     "data": {
      "text/plain": [
       "Text(0,0.5,'category')"
      ]
     },
     "execution_count": 15,
     "metadata": {},
     "output_type": "execute_result"
    },
    {
     "data": {
      "image/png": "[encoded data removed]",
      "text/plain": [
       "<matplotlib.figure.Figure at 0x1b090bca518>"
      ]
     },
     "metadata": {},
     "output_type": "display_data"
    }
   ],
   "source": [
    "df_cat = pd.read_csv('outputs/category_cost.txt', sep = '\\t', header=-1)\n",
    "df_cat.columns = ['category','total_sale']\n",
    "plt.bar(df_cat['category'],df_cat['total_sale'])\n",
    "plt.xticks(rotation=90)\n",
    "plt.ylim([5.7e7,5.8e7])\n",
    "plt.title('sales for different categories')\n",
    "plt.xlabel('total sales')\n",
    "plt.ylabel('category')"
   ]
  },
  {
   "cell_type": "markdown",
   "metadata": {},
   "source": [
    "### Problem 2:\n",
    "Find the total sales for each store."
   ]
  },
  {
   "cell_type": "code",
   "execution_count": 25,
   "metadata": {},
   "outputs": [
    {
     "name": "stdout",
     "output_type": "stream",
     "text": [
      "Overwriting codes/store_sale.py\n"
     ]
    }
   ],
   "source": [
    "%%file codes/store_sale.py \n",
    "# this magic command allows saving output of python to folder\n",
    "from mrjob.job import MRJob\n",
    "\n",
    "\n",
    "class MRJobStoreSales(MRJob):\n",
    "    \n",
    "    def mapper(self,_,line):\n",
    "        data = line.strip().split('\\t')  # delete whitespace and tokenize\n",
    "        if len(data) == 6:\n",
    "            date, time, store, category, cost, payment = data  # unpacking the data\n",
    "            if store in ['Reno','Toledo','Chandler']:  # we are only interested in these cities\n",
    "                yield (store, float(cost))  # key pair to send to reducer\n",
    "        \n",
    "    def reducer(self, category,cost):\n",
    "        yield category, max(cost)  # reducer return\n",
    "\n",
    "        \n",
    "if __name__ == '__main__':  \n",
    "    MRJobStoreSales.run()  # where MRJobCategoryCost is your job class"
   ]
  },
  {
   "cell_type": "code",
   "execution_count": 26,
   "metadata": {},
   "outputs": [
    {
     "name": "stdout",
     "output_type": "stream",
     "text": [
      "Running this query took 71.59286904335022 seconds.\n"
     ]
    },
    {
     "name": "stderr",
     "output_type": "stream",
     "text": [
      "No configs found; falling back on auto-configuration\n",
      "No configs specified for inline runner\n",
      "Running step 1 of 1...\n",
      "Creating temp directory C:\\Users\\Amin\\AppData\\Local\\Temp\\store_sale.Amin.20190226.071959.506477\n",
      "reading from STDIN\n",
      "job output is in C:\\Users\\Amin\\AppData\\Local\\Temp\\store_sale.Amin.20190226.071959.506477\\output\n",
      "Streaming final output from C:\\Users\\Amin\\AppData\\Local\\Temp\\store_sale.Amin.20190226.071959.506477\\output...\n",
      "Removing temp directory C:\\Users\\Amin\\AppData\\Local\\Temp\\store_sale.Amin.20190226.071959.506477...\n"
     ]
    }
   ],
   "source": [
    "tic = time.time()\n",
    "! python codes/store_sale.py < data/purchases.txt > outputs/p2storesales.txt\n",
    "toc = time.time()\n",
    "\n",
    "print('Running this query took {} seconds.'.format(toc - tic))"
   ]
  },
  {
   "cell_type": "markdown",
   "metadata": {},
   "source": [
    "#### Problem 3\n",
    "Total sales and total number of transactions."
   ]
  },
  {
   "cell_type": "code",
   "execution_count": 32,
   "metadata": {},
   "outputs": [
    {
     "name": "stdout",
     "output_type": "stream",
     "text": [
      "Overwriting codes/total_sale.py\n"
     ]
    }
   ],
   "source": [
    "%%file codes/total_sale.py \n",
    "# this magic command allows saving output of python to folder\n",
    "from mrjob.job import MRJob\n",
    "\n",
    "\n",
    "class MRJobTotalSale(MRJob):\n",
    "    \n",
    "    def mapper(self,_,line):\n",
    "        data = line.strip().split('\\t')  # delete whitespace and tokenize\n",
    "        if len(data) == 6:\n",
    "            cost = data[4]  # unpacking the data\n",
    "            yield (None, float(cost))  # no key availale\n",
    "        \n",
    "    def reducer(self, category,cost):\n",
    "        yield 'Total = ', round(sum(cost),2)  # reducer return\n",
    "\n",
    "        \n",
    "if __name__ == '__main__':  \n",
    "    MRJobTotalSale.run()  # where MRJobCategoryCost is your job class"
   ]
  },
  {
   "cell_type": "code",
   "execution_count": 35,
   "metadata": {},
   "outputs": [
    {
     "name": "stdout",
     "output_type": "stream",
     "text": [
      "Running this query took 335.0408570766449 seconds.\n"
     ]
    },
    {
     "name": "stderr",
     "output_type": "stream",
     "text": [
      "No configs found; falling back on auto-configuration\n",
      "No configs specified for inline runner\n",
      "Running step 1 of 1...\n",
      "Creating temp directory C:\\Users\\Amin\\AppData\\Local\\Temp\\total_sale.Amin.20190227.041403.313817\n",
      "reading from STDIN\n",
      "job output is in C:\\Users\\Amin\\AppData\\Local\\Temp\\total_sale.Amin.20190227.041403.313817\\output\n",
      "Streaming final output from C:\\Users\\Amin\\AppData\\Local\\Temp\\total_sale.Amin.20190227.041403.313817\\output...\n",
      "Removing temp directory C:\\Users\\Amin\\AppData\\Local\\Temp\\total_sale.Amin.20190227.041403.313817...\n"
     ]
    }
   ],
   "source": [
    "tic = time.time()\n",
    "! python codes/total_sale.py < data/purchases.txt > outputs/p3totalsale.txt\n",
    "toc = time.time()\n",
    "\n",
    "print('Running this query took {} seconds.'.format(toc - tic))"
   ]
  },
  {
   "cell_type": "code",
   "execution_count": 39,
   "metadata": {},
   "outputs": [
    {
     "name": "stdout",
     "output_type": "stream",
     "text": [
      "Overwriting codes/num_transaction.py\n"
     ]
    }
   ],
   "source": [
    "%%file codes/num_transaction.py \n",
    "# this magic command allows saving output of python to folder\n",
    "from mrjob.job import MRJob\n",
    "\n",
    "\n",
    "class MRJobTransNum(MRJob):\n",
    "    \n",
    "    def mapper(self,_,line):\n",
    "        data = line.strip().split('\\t')  # delete whitespace and tokenize\n",
    "        if len(data) == 6:\n",
    "            yield (None, 1)  # no key availale\n",
    "        \n",
    "    def reducer(self, category,cost):\n",
    "        yield 'Total Number = ', sum(cost) # reducer return\n",
    "\n",
    "        \n",
    "if __name__ == '__main__':  \n",
    "    MRJobTransNum.run()  # where MRJobCategoryCost is your job class"
   ]
  },
  {
   "cell_type": "code",
   "execution_count": 41,
   "metadata": {},
   "outputs": [
    {
     "name": "stdout",
     "output_type": "stream",
     "text": [
      "\"Total Number = \"\t4138476\n",
      "Running this query took 318.72618341445923 seconds.\n"
     ]
    },
    {
     "name": "stderr",
     "output_type": "stream",
     "text": [
      "No configs found; falling back on auto-configuration\n",
      "No configs specified for inline runner\n",
      "Running step 1 of 1...\n",
      "Creating temp directory C:\\Users\\Amin\\AppData\\Local\\Temp\\num_transaction.Amin.20190227.042552.661655\n",
      "reading from STDIN\n",
      "job output is in C:\\Users\\Amin\\AppData\\Local\\Temp\\num_transaction.Amin.20190227.042552.661655\\output\n",
      "Streaming final output from C:\\Users\\Amin\\AppData\\Local\\Temp\\num_transaction.Amin.20190227.042552.661655\\output...\n",
      "Removing temp directory C:\\Users\\Amin\\AppData\\Local\\Temp\\num_transaction.Amin.20190227.042552.661655...\n"
     ]
    }
   ],
   "source": [
    "tic = time.time()\n",
    "! python codes/num_transaction.py < data/purchases.txt\n",
    "toc = time.time()\n",
    "\n",
    "print('Running this query took {} seconds.'.format(toc - tic))"
   ]
  },
  {
   "cell_type": "markdown",
   "metadata": {},
   "source": [
    "#### Problem 4\n",
    "Find the mean of sale for each day of the week use map reduce."
   ]
  },
  {
   "cell_type": "code",
   "execution_count": 74,
   "metadata": {},
   "outputs": [
    {
     "name": "stdout",
     "output_type": "stream",
     "text": [
      "Overwriting codes/weekly_sales.py\n"
     ]
    }
   ],
   "source": [
    "%%file codes/weekly_sales.py \n",
    "# this magic command allows saving output of python to folder\n",
    "from mrjob.job import MRJob\n",
    "from datetime import datetime\n",
    "\n",
    "class MRJobWeeklySales(MRJob):\n",
    "    \n",
    "    def mapper(self,_,line):\n",
    "        data = line.strip().split('\\t')  # delete whitespace and tokenize\n",
    "        if len(data) == 6:\n",
    "            date = data[0]\n",
    "            cost = data[4]\n",
    "            day = datetime.strptime(date, '%Y-%m-%d').weekday()\n",
    "            weekmap = {0:'Mon', 1:'Tue', 2:'Wed', 3:'Thu', 4:'Fri', 5:'Sat', 6:'Sun'}\n",
    "            \n",
    "            yield (weekmap[day], float(cost))  # no key availale\n",
    "                \n",
    "    def reducer(self, day, cost):\n",
    "        n = total = 0\n",
    "        for c in cost:\n",
    "            n += 1\n",
    "            total += c\n",
    "        yield day, total / n # reducer return\n",
    "\n",
    "        \n",
    "if __name__ == '__main__':  \n",
    "    MRJobWeeklySales.run()  # where MRJobCategoryCost is your job class"
   ]
  },
  {
   "cell_type": "code",
   "execution_count": 73,
   "metadata": {},
   "outputs": [
    {
     "name": "stdout",
     "output_type": "stream",
     "text": [
      "\"Mon\"\t245.96899999999997\n",
      "Running this query took 2.6555721759796143 seconds.\n"
     ]
    },
    {
     "name": "stderr",
     "output_type": "stream",
     "text": [
      "No configs found; falling back on auto-configuration\n",
      "No configs specified for inline runner\n",
      "Running step 1 of 1...\n",
      "Creating temp directory C:\\Users\\Amin\\AppData\\Local\\Temp\\weekly_sales.Amin.20190302.061047.025348\n",
      "reading from STDIN\n",
      "job output is in C:\\Users\\Amin\\AppData\\Local\\Temp\\weekly_sales.Amin.20190302.061047.025348\\output\n",
      "Streaming final output from C:\\Users\\Amin\\AppData\\Local\\Temp\\weekly_sales.Amin.20190302.061047.025348\\output...\n",
      "Removing temp directory C:\\Users\\Amin\\AppData\\Local\\Temp\\weekly_sales.Amin.20190302.061047.025348...\n"
     ]
    }
   ],
   "source": [
    "tic = time.time()\n",
    "! python codes/weekly_sales.py < data/sample.txt\n",
    "toc = time.time()\n",
    "\n",
    "print('Running this query took {} seconds.'.format(toc - tic))\n",
    "# I will perform this on cloud"
   ]
  },
  {
   "cell_type": "markdown",
   "metadata": {},
   "source": [
    "#### Problem 5\n",
    "Add combiners to your MRJob and get the sale for each day of the week."
   ]
  },
  {
   "cell_type": "code",
   "execution_count": 78,
   "metadata": {},
   "outputs": [
    {
     "name": "stdout",
     "output_type": "stream",
     "text": [
      "Overwriting codes/weekly_total.py\n"
     ]
    }
   ],
   "source": [
    "%%file codes/weekly_total.py \n",
    "# this magic command allows saving output of python to folder\n",
    "from mrjob.job import MRJob\n",
    "from datetime import datetime\n",
    "\n",
    "class MRJobWeeklyTotals(MRJob):\n",
    "    \n",
    "    def mapper(self,_,line):\n",
    "        data = line.strip().split('\\t')  # delete whitespace and tokenize\n",
    "        if len(data) == 6:\n",
    "            date = data[0]\n",
    "            cost = data[4]\n",
    "            day = datetime.strptime(date, '%Y-%m-%d').weekday()\n",
    "            weekmap = {0:'Mon', 1:'Tue', 2:'Wed', 3:'Thu', 4:'Fri', 5:'Sat', 6:'Sun'}\n",
    "            yield (weekmap[day], float(cost))  # no key availale\n",
    "    \n",
    "    def combiner(self, day, cost): # performing sum aggregation locally\n",
    "        yield day, sum(cost)\n",
    "        \n",
    "    def reducer(self, day, cost):\n",
    "        yield day, sum(cost) # reducer return\n",
    "\n",
    "        \n",
    "if __name__ == '__main__':  \n",
    "    MRJobWeeklyTotals.run()  # where MRJobCategoryCost is your job class"
   ]
  },
  {
   "cell_type": "code",
   "execution_count": 80,
   "metadata": {},
   "outputs": [
    {
     "name": "stdout",
     "output_type": "stream",
     "text": [
      "\"Fri\"\t147414929.5000001\n",
      "\"Mon\"\t150364112.0700001\n",
      "\"Sat\"\t147410177.57000005\n",
      "\"Sun\"\t150296795.46999985\n",
      "\"Thu\"\t147353780.57000002\n",
      "\"Tue\"\t147246658.13999978\n",
      "\"Wed\"\t144371499.9399998\n",
      "Running this query took 461.49702310562134 seconds.\n"
     ]
    },
    {
     "name": "stderr",
     "output_type": "stream",
     "text": [
      "No configs found; falling back on auto-configuration\n",
      "No configs specified for inline runner\n",
      "Running step 1 of 1...\n",
      "Creating temp directory C:\\Users\\Amin\\AppData\\Local\\Temp\\weekly_total.Amin.20190302.061854.550743\n",
      "reading from STDIN\n",
      "job output is in C:\\Users\\Amin\\AppData\\Local\\Temp\\weekly_total.Amin.20190302.061854.550743\\output\n",
      "Streaming final output from C:\\Users\\Amin\\AppData\\Local\\Temp\\weekly_total.Amin.20190302.061854.550743\\output...\n",
      "Removing temp directory C:\\Users\\Amin\\AppData\\Local\\Temp\\weekly_total.Amin.20190302.061854.550743...\n"
     ]
    }
   ],
   "source": [
    "tic = time.time()\n",
    "! python codes/weekly_total.py < data/purchases.txt\n",
    "toc = time.time()\n",
    "\n",
    "print('Running this query took {} seconds.'.format(toc - tic))\n",
    "# I will perform this on cloud"
   ]
  },
  {
   "cell_type": "code",
   "execution_count": null,
   "metadata": {},
   "outputs": [],
   "source": []
  }
 ],
 "metadata": {
  "kernelspec": {
   "display_name": "Python 3",
   "language": "python",
   "name": "python3"
  },
  "language_info": {
   "codemirror_mode": {
    "name": "ipython",
    "version": 3
   },
   "file_extension": ".py",
   "mimetype": "text/x-python",
   "name": "python",
   "nbconvert_exporter": "python",
   "pygments_lexer": "ipython3",
   "version": "3.6.4"
  }
 },
 "nbformat": 4,
 "nbformat_minor": 2
}
